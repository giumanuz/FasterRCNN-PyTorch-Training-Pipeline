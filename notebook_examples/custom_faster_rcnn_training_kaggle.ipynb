{
 "cells": [
  {
   "cell_type": "markdown",
   "metadata": {
    "id": "4sjTjpNnhwoA",
    "papermill": {
     "duration": 0.015111,
     "end_time": "2022-05-21T10:46:17.402409",
     "exception": false,
     "start_time": "2022-05-21T10:46:17.387298",
     "status": "completed"
    },
    "tags": []
   },
   "source": [
    "## Clone the Repository"
   ]
  },
  {
   "cell_type": "code",
   "execution_count": null,
   "metadata": {
    "execution": {
     "iopub.execute_input": "2023-07-06T01:08:50.537159Z",
     "iopub.status.busy": "2023-07-06T01:08:50.535630Z",
     "iopub.status.idle": "2023-07-06T01:08:53.234515Z",
     "shell.execute_reply": "2023-07-06T01:08:53.232757Z",
     "shell.execute_reply.started": "2023-07-06T01:08:50.537122Z"
    },
    "id": "hqJgchTOh3Os",
    "outputId": "d97d0e09-b2fe-434b-e514-42733d681a12",
    "papermill": {
     "duration": 2.119194,
     "end_time": "2022-05-21T10:46:19.535472",
     "exception": false,
     "start_time": "2022-05-21T10:46:17.416278",
     "status": "completed"
    },
    "tags": [],
    "trusted": true
   },
   "outputs": [],
   "source": [
    "!git clone https://github.com/giumanuz/fastercnn-pytorch-training-pipeline.git"
   ]
  },
  {
   "cell_type": "markdown",
   "metadata": {
    "papermill": {
     "duration": 0.015335,
     "end_time": "2022-05-21T10:46:19.567267",
     "exception": false,
     "start_time": "2022-05-21T10:46:19.551932",
     "status": "completed"
    },
    "tags": []
   },
   "source": [
    "We will execute all the code within the cloned project directory, that is `fastercnn-pytorch-training-pipeline`."
   ]
  },
  {
   "cell_type": "code",
   "execution_count": null,
   "metadata": {
    "execution": {
     "iopub.execute_input": "2023-07-06T01:08:53.237935Z",
     "iopub.status.busy": "2023-07-06T01:08:53.236659Z",
     "iopub.status.idle": "2023-07-06T01:08:56.678675Z",
     "shell.execute_reply": "2023-07-06T01:08:56.676666Z",
     "shell.execute_reply.started": "2023-07-06T01:08:53.237885Z"
    },
    "trusted": true
   },
   "outputs": [],
   "source": [
    "import torch\n",
    "torch.__version__"
   ]
  },
  {
   "cell_type": "code",
   "execution_count": null,
   "metadata": {
    "execution": {
     "iopub.execute_input": "2023-07-06T01:08:56.680917Z",
     "iopub.status.busy": "2023-07-06T01:08:56.680306Z",
     "iopub.status.idle": "2023-07-06T01:08:56.689131Z",
     "shell.execute_reply": "2023-07-06T01:08:56.686765Z",
     "shell.execute_reply.started": "2023-07-06T01:08:56.680881Z"
    },
    "id": "ZrgajbVrh6x9",
    "outputId": "1345eaf7-5721-4a0f-f4bf-1c1287bf4d1a",
    "papermill": {
     "duration": 0.025302,
     "end_time": "2022-05-21T10:46:19.607921",
     "exception": false,
     "start_time": "2022-05-21T10:46:19.582619",
     "status": "completed"
    },
    "tags": [],
    "trusted": true
   },
   "outputs": [],
   "source": [
    "# Enter the repo directory.\n",
    "%cd fastercnn-pytorch-training-pipeline/"
   ]
  },
  {
   "cell_type": "code",
   "execution_count": null,
   "metadata": {
    "execution": {
     "iopub.execute_input": "2023-07-06T01:08:56.693454Z",
     "iopub.status.busy": "2023-07-06T01:08:56.692598Z",
     "iopub.status.idle": "2023-07-06T01:08:56.701144Z",
     "shell.execute_reply": "2023-07-06T01:08:56.700115Z",
     "shell.execute_reply.started": "2023-07-06T01:08:56.693419Z"
    },
    "trusted": true
   },
   "outputs": [],
   "source": [
    "%%writefile requirements.txt\n",
    "# Base-------------------------------------\n",
    "albumentations==1.1.0\n",
    "ipython\n",
    "jupyter\n",
    "matplotlib\n",
    "opencv-python>=4.1.1.26\n",
    "opencv-python-headless>=4.1.1.26\n",
    "Pillow\n",
    "PyYAML\n",
    "scikit-image\n",
    "scikit-learn\n",
    "scipy\n",
    "# torch==2.0.0\n",
    "# torchvision==0.15.1\n",
    "numpy\n",
    "protobuf<=3.20.1\n",
    "pandas\n",
    "tqdm\n",
    "\n",
    "# Logging----------------------------------\n",
    "wandb\n",
    "tensorboard\n",
    "\n",
    "# Model summary----------------------------\n",
    "torchinfo\n",
    "\n",
    "# Extras-----------------------------------\n",
    "pycocotools>=2.0.2\n",
    "setuptools==59.5.0\n",
    "torchmetrics # Evaluation\n",
    "\n",
    "# Transformer based models.\n",
    "vision_transformers\n",
    "\n",
    "# Export-----------------------------------\n",
    "# onnxruntime\n",
    "# onnx\n",
    "# onnxruntime-gpu"
   ]
  },
  {
   "cell_type": "code",
   "execution_count": null,
   "metadata": {
    "_kg_hide-output": true,
    "execution": {
     "iopub.execute_input": "2023-07-06T01:08:56.703431Z",
     "iopub.status.busy": "2023-07-06T01:08:56.703082Z",
     "iopub.status.idle": "2023-07-06T01:09:49.375753Z",
     "shell.execute_reply": "2023-07-06T01:09:49.374582Z",
     "shell.execute_reply.started": "2023-07-06T01:08:56.703399Z"
    },
    "id": "VTHv38whkGt_",
    "outputId": "2df287c0-4686-4ec5-cd64-0c6f1b5f9745",
    "papermill": {
     "duration": 56.364637,
     "end_time": "2022-05-21T10:47:15.988054",
     "exception": false,
     "start_time": "2022-05-21T10:46:19.623417",
     "status": "completed"
    },
    "scrolled": true,
    "tags": [],
    "trusted": true
   },
   "outputs": [],
   "source": [
    "# Install the Requirements\n",
    "!pip install -r requirements.txt"
   ]
  },
  {
   "cell_type": "markdown",
   "metadata": {
    "id": "r2OW1Xj5ij96",
    "papermill": {
     "duration": 0.072735,
     "end_time": "2022-05-21T10:47:19.383630",
     "exception": false,
     "start_time": "2022-05-21T10:47:19.310895",
     "status": "completed"
    },
    "tags": []
   },
   "source": [
    "## Create the Custom Dataset YAML File\n",
    "\n",
    "The YAML file should contain:\n",
    "* `TRAIN_DIR_IMAGES`: Path to the training images directory.\n",
    "* `TRAIN_DIR_LABELS`: Path to the training labels directory containing the XML files. Can be the same as `TRAIN_DIR_IMAGES`.\n",
    "* `VALID_DIR_IMAGES`: Path to the validation images directory.\n",
    "* `VALID_DIR_LABELS`: Path to the validation labels directory containing the XML files. Can be the same as `VALID_DIR_IMAGES`.\n",
    "* `CLASSES`: All the class names in the dataset along with the `__background__` class as the first class.\n",
    "* `NC`: The number of classes. This should be the number of classes in the dataset + the background class. If the number of classes in the dataset are 7, then `NC` should be 8.\n",
    "* `SAVE_VALID_PREDICTION_IMAGES`: Whether to save the prediction results from the validation loop or not."
   ]
  },
  {
   "cell_type": "code",
   "execution_count": null,
   "metadata": {
    "execution": {
     "iopub.execute_input": "2023-07-06T01:09:51.707777Z",
     "iopub.status.busy": "2023-07-06T01:09:51.707452Z",
     "iopub.status.idle": "2023-07-06T01:09:51.714797Z",
     "shell.execute_reply": "2023-07-06T01:09:51.713867Z",
     "shell.execute_reply.started": "2023-07-06T01:09:51.707749Z"
    },
    "id": "wc1raikijI5b",
    "outputId": "bdd2ceab-547d-42c8-b2cb-87d6a973e909",
    "papermill": {
     "duration": 0.089725,
     "end_time": "2022-05-21T10:47:19.549559",
     "exception": false,
     "start_time": "2022-05-21T10:47:19.459834",
     "status": "completed"
    },
    "tags": [],
    "trusted": true
   },
   "outputs": [],
   "source": [
    "%%writefile data_configs/custom_data.yaml\n",
    "# Images and labels direcotry should be relative to train.py\n",
    "TRAIN_DIR_IMAGES: '../split_photos/train'\n",
    "TRAIN_DIR_LABELS: '../split_photos/train'\n",
    "VALID_DIR_IMAGES: '../split_photos/val'\n",
    "VALID_DIR_LABELS: '../split_photos/val'\n",
    "\n",
    "# Class names.\n",
    "CLASSES: [\n",
    "    '__background__',\n",
    "    'bad_weld', 'good_weld'\n",
    "]\n",
    "\n",
    "# Number of classes (object classes + 1 for background class in Faster RCNN).\n",
    "NC: 3\n",
    "\n",
    "# Whether to save the predictions of the validation set while training.\n",
    "SAVE_VALID_PREDICTION_IMAGES: True"
   ]
  },
  {
   "cell_type": "markdown",
   "metadata": {
    "id": "-4iJEC0zjzE5",
    "papermill": {
     "duration": 0.073043,
     "end_time": "2022-05-21T10:47:19.698488",
     "exception": false,
     "start_time": "2022-05-21T10:47:19.625445",
     "status": "completed"
    },
    "tags": []
   },
   "source": [
    "## Training\n",
    "\n",
    "For this training example we use:\n",
    "* The official Faster RCNN ResNet50 FPN model.\n",
    "* Batch size of 8. You may change it according to the GPU memory available."
   ]
  },
  {
   "cell_type": "code",
   "execution_count": null,
   "metadata": {
    "execution": {
     "iopub.execute_input": "2023-07-06T01:09:51.716886Z",
     "iopub.status.busy": "2023-07-06T01:09:51.716188Z",
     "iopub.status.idle": "2023-07-06T01:09:54.512532Z",
     "shell.execute_reply": "2023-07-06T01:09:54.511194Z",
     "shell.execute_reply.started": "2023-07-06T01:09:51.716854Z"
    },
    "trusted": true
   },
   "outputs": [],
   "source": [
    "!wandb disabled"
   ]
  },
  {
   "cell_type": "code",
   "execution_count": null,
   "metadata": {
    "execution": {
     "iopub.execute_input": "2023-07-06T01:09:54.517155Z",
     "iopub.status.busy": "2023-07-06T01:09:54.516795Z",
     "iopub.status.idle": "2023-07-06T01:16:50.957772Z",
     "shell.execute_reply": "2023-07-06T01:16:50.956549Z",
     "shell.execute_reply.started": "2023-07-06T01:09:54.517122Z"
    },
    "id": "e1BoCmE3j54d",
    "outputId": "cc50814e-4ba4-4f2c-ffd9-2ff92de82789",
    "papermill": {
     "duration": 2284.806289,
     "end_time": "2022-05-21T11:25:24.575367",
     "exception": false,
     "start_time": "2022-05-21T10:47:19.769078",
     "status": "completed"
    },
    "tags": [],
    "trusted": true
   },
   "outputs": [],
   "source": [
    "!python train.py --data data_configs/custom_data.yaml --epochs 300 --model fasterrcnn_resnet50_fpn_v2 --name custom_training --batch 8 --lr=1e-4 --imgsz=500  --patience=10"
   ]
  },
  {
   "cell_type": "markdown",
   "metadata": {
    "id": "i0RP6pmDkB8Y",
    "papermill": {
     "duration": 0.190306,
     "end_time": "2022-05-21T11:25:24.946461",
     "exception": false,
     "start_time": "2022-05-21T11:25:24.756155",
     "status": "completed"
    },
    "tags": []
   },
   "source": [
    "## Visualize Validation Results\n",
    "\n",
    "Check out a few validation results from `outputs/training/custom_training` directory."
   ]
  },
  {
   "cell_type": "code",
   "execution_count": null,
   "metadata": {
    "execution": {
     "iopub.execute_input": "2023-07-06T01:16:50.962503Z",
     "iopub.status.busy": "2023-07-06T01:16:50.962128Z",
     "iopub.status.idle": "2023-07-06T01:16:50.968270Z",
     "shell.execute_reply": "2023-07-06T01:16:50.967303Z",
     "shell.execute_reply.started": "2023-07-06T01:16:50.962473Z"
    },
    "papermill": {
     "duration": 0.184295,
     "end_time": "2022-05-21T11:25:25.322539",
     "exception": false,
     "start_time": "2022-05-21T11:25:25.138244",
     "status": "completed"
    },
    "tags": [],
    "trusted": true
   },
   "outputs": [],
   "source": [
    "import matplotlib.pyplot as plt\n",
    "import glob as glob"
   ]
  },
  {
   "cell_type": "code",
   "execution_count": null,
   "metadata": {
    "execution": {
     "iopub.execute_input": "2023-07-06T01:16:50.971109Z",
     "iopub.status.busy": "2023-07-06T01:16:50.970225Z",
     "iopub.status.idle": "2023-07-06T01:16:52.153714Z",
     "shell.execute_reply": "2023-07-06T01:16:52.152906Z",
     "shell.execute_reply.started": "2023-07-06T01:16:50.971074Z"
    },
    "papermill": {
     "duration": 1.096289,
     "end_time": "2022-05-21T11:25:26.599425",
     "exception": false,
     "start_time": "2022-05-21T11:25:25.503136",
     "status": "completed"
    },
    "tags": [],
    "trusted": true
   },
   "outputs": [],
   "source": [
    "results_dir_path = 'outputs/training/custom_training'\n",
    "valid_images = glob.glob(f\"{results_dir_path}/*.jpg\")\n",
    "\n",
    "for i in range(3):\n",
    "    plt.figure(figsize=(10, 7))\n",
    "    image = plt.imread(valid_images[i])\n",
    "    plt.imshow(image)\n",
    "    plt.axis('off')\n",
    "    plt.show()"
   ]
  },
  {
   "cell_type": "markdown",
   "metadata": {
    "papermill": {
     "duration": 0.202029,
     "end_time": "2022-05-21T11:25:27.989183",
     "exception": false,
     "start_time": "2022-05-21T11:25:27.787154",
     "status": "completed"
    },
    "tags": []
   },
   "source": [
    "## Evaluation"
   ]
  },
  {
   "cell_type": "code",
   "execution_count": null,
   "metadata": {
    "execution": {
     "iopub.execute_input": "2023-07-06T01:17:32.457168Z",
     "iopub.status.busy": "2023-07-06T01:17:32.456847Z",
     "iopub.status.idle": "2023-07-06T01:18:12.899723Z",
     "shell.execute_reply": "2023-07-06T01:18:12.898477Z",
     "shell.execute_reply.started": "2023-07-06T01:17:32.457139Z"
    },
    "trusted": true
   },
   "outputs": [],
   "source": [
    "# Verbose mAP.\n",
    "!python eval.py --weights outputs/training/custom_training/best_model.pth --data data_configs/custom_data.yaml --model fasterrcnn_resnet50_fpn_v2 --verbose"
   ]
  }
 ],
 "metadata": {
  "kernelspec": {
   "display_name": "Python 3.12.3 64-bit",
   "language": "python",
   "name": "python3"
  },
  "language_info": {
   "codemirror_mode": {
    "name": "ipython",
    "version": 3
   },
   "file_extension": ".py",
   "mimetype": "text/x-python",
   "name": "python",
   "nbconvert_exporter": "python",
   "pygments_lexer": "ipython3",
   "version": "3.12.3"
  },
  "papermill": {
   "default_parameters": {},
   "duration": 2360.232725,
   "end_time": "2022-05-21T11:25:28.710848",
   "environment_variables": {},
   "exception": null,
   "input_path": "__notebook__.ipynb",
   "output_path": "__notebook__.ipynb",
   "parameters": {},
   "start_time": "2022-05-21T10:46:08.478123",
   "version": "2.3.4"
  },
  "vscode": {
   "interpreter": {
    "hash": "d925ca9a757bd0a2cab4827f7f96c5c81fd2d77f3501bcd14ec7cadfc08de03c"
   }
  }
 },
 "nbformat": 4,
 "nbformat_minor": 5
}
